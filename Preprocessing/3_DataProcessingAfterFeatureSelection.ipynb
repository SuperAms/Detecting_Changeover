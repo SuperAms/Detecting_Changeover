{
 "cells": [
  {
   "cell_type": "code",
   "execution_count": 2,
   "id": "d0fd79aa-10d4-4cc5-8e91-8eb96e8c360b",
   "metadata": {},
   "outputs": [],
   "source": [
    "import numpy as np\n",
    "import pandas as pd"
   ]
  },
  {
   "cell_type": "code",
   "execution_count": 3,
   "id": "2d75b137-378f-419a-95e2-d1263a405ca6",
   "metadata": {},
   "outputs": [],
   "source": [
    "data = pd.read_csv('Labeled_Data_from_2021-11-26_Corr.csv', delimiter=',', index_col=0,) #Data from 31.03.2021 with Labels.csv\n",
    "data1 = pd.read_csv('Labeled_Data_from_2021-12-07_Corr.csv', delimiter=',', index_col=0,) #Data from 31.03.2021 with Labels.csv"
   ]
  },
  {
   "cell_type": "code",
   "execution_count": 4,
   "id": "f8a76f75-b21e-44f9-9560-914d5afc88b0",
   "metadata": {},
   "outputs": [],
   "source": [
    "data.pop('RapidTraverseKey')\n",
    "data.pop('ChipCleaningGunStatus')\n",
    "data.pop('SpindleCleaning')\n",
    "data.pop('DNCMode')\n",
    "data.pop('CabinDoorLockFront');"
   ]
  },
  {
   "cell_type": "code",
   "execution_count": 5,
   "id": "90d15944-e993-4d01-8a8c-a7ee94b6610e",
   "metadata": {},
   "outputs": [],
   "source": [
    "data1.pop('RapidTraverseKey')\n",
    "data1.pop('ChipCleaningGunStatus')\n",
    "data1.pop('SpindleCleaning')\n",
    "data1.pop('DNCMode')\n",
    "data1.pop('CabinDoorLockFront');"
   ]
  },
  {
   "cell_type": "code",
   "execution_count": 6,
   "id": "a95b7adf-427f-407b-92ca-abfbfa45b3ea",
   "metadata": {},
   "outputs": [
    {
     "name": "stdout",
     "output_type": "stream",
     "text": [
      "<class 'pandas.core.frame.DataFrame'>\n",
      "Int64Index: 9597 entries, 0 to 2257\n",
      "Data columns (total 14 columns):\n",
      " #   Column             Non-Null Count  Dtype  \n",
      "---  ------             --------------  -----  \n",
      " 0   DateTime           9597 non-null   object \n",
      " 1   ProgramStatus      9597 non-null   float64\n",
      " 2   ToolNumber         9597 non-null   float64\n",
      " 3   PocketTable        9597 non-null   float64\n",
      " 4   DriveStatus        9597 non-null   float64\n",
      " 5   DoorStatusTooling  9597 non-null   float64\n",
      " 6   OverrideFeed       9597 non-null   float64\n",
      " 7   FeedRate           9597 non-null   float64\n",
      " 8   SpindleSpeed       9597 non-null   float64\n",
      " 9   IndoorGPSx         9597 non-null   float64\n",
      " 10  IndoorGPSy         9597 non-null   float64\n",
      " 11  Phase              9597 non-null   int64  \n",
      " 12  Phase_compressed   9597 non-null   int64  \n",
      " 13  Production         9597 non-null   int64  \n",
      "dtypes: float64(10), int64(3), object(1)\n",
      "memory usage: 1.1+ MB\n"
     ]
    }
   ],
   "source": [
    "data.info()"
   ]
  },
  {
   "cell_type": "code",
   "execution_count": 7,
   "id": "a4c05f9e-7617-4a30-9043-b27092262588",
   "metadata": {},
   "outputs": [
    {
     "name": "stdout",
     "output_type": "stream",
     "text": [
      "<class 'pandas.core.frame.DataFrame'>\n",
      "Int64Index: 12343 entries, 0 to 11005\n",
      "Data columns (total 14 columns):\n",
      " #   Column             Non-Null Count  Dtype  \n",
      "---  ------             --------------  -----  \n",
      " 0   DateTime           12343 non-null  object \n",
      " 1   ProgramStatus      12343 non-null  float64\n",
      " 2   ToolNumber         12343 non-null  float64\n",
      " 3   PocketTable        12343 non-null  float64\n",
      " 4   DriveStatus        12343 non-null  float64\n",
      " 5   DoorStatusTooling  12343 non-null  float64\n",
      " 6   OverrideFeed       12343 non-null  float64\n",
      " 7   FeedRate           12343 non-null  float64\n",
      " 8   SpindleSpeed       12343 non-null  float64\n",
      " 9   IndoorGPSx         12343 non-null  float64\n",
      " 10  IndoorGPSy         12343 non-null  float64\n",
      " 11  Phase              12343 non-null  int64  \n",
      " 12  Phase_compressed   12343 non-null  int64  \n",
      " 13  Production         12343 non-null  int64  \n",
      "dtypes: float64(10), int64(3), object(1)\n",
      "memory usage: 1.4+ MB\n"
     ]
    }
   ],
   "source": [
    "data1.info()"
   ]
  },
  {
   "cell_type": "code",
   "execution_count": 11,
   "id": "ca279600-d366-4810-b53d-8efd377c782f",
   "metadata": {},
   "outputs": [],
   "source": [
    "data.to_csv(\"../Data/Data_from_2021-11-26_final.csv\")\n",
    "data1.to_csv(\"../Data/Data_from_2021-12-07_final.csv\")\n"
   ]
  },
  {
   "cell_type": "code",
   "execution_count": 12,
   "id": "e1eac533-6a7d-4339-b2b0-76b6d766aea6",
   "metadata": {},
   "outputs": [],
   "source": [
    "data2=pd.concat([data, data1])"
   ]
  },
  {
   "cell_type": "code",
   "execution_count": 13,
   "id": "ea0b5016-9b51-40a5-8261-227f45e0bc59",
   "metadata": {},
   "outputs": [],
   "source": [
    "data2.to_csv(\"../Data/Data_Detecting_Changeover.csv\")"
   ]
  }
 ],
 "metadata": {
  "kernelspec": {
   "display_name": "Python 3 (ipykernel)",
   "language": "python",
   "name": "python3"
  },
  "language_info": {
   "codemirror_mode": {
    "name": "ipython",
    "version": 3
   },
   "file_extension": ".py",
   "mimetype": "text/x-python",
   "name": "python",
   "nbconvert_exporter": "python",
   "pygments_lexer": "ipython3",
   "version": "3.9.7"
  }
 },
 "nbformat": 4,
 "nbformat_minor": 5
}
